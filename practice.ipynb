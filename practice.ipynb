{
  "nbformat": 4,
  "nbformat_minor": 0,
  "metadata": {
    "colab": {
      "provenance": []
    },
    "kernelspec": {
      "name": "python3",
      "display_name": "Python 3"
    },
    "language_info": {
      "name": "python"
    }
  },
  "cells": [
    {
      "cell_type": "markdown",
      "source": [
        "##Data Types"
      ],
      "metadata": {
        "id": "Q9fytLB1YCcz"
      }
    },
    {
      "cell_type": "markdown",
      "source": [
        "- Text Type: \tstr\n",
        "- Numeric Types: \tint, float, complex\n",
        "- Sequence Types: \tlist, tuple, range\n",
        "- Mapping Type: \tdict\n",
        "- Set Types: \tset, frozenset\n",
        "- Boolean Type: \tbool\n",
        "- Binary Types: \tbytes, bytearray, memoryview\n",
        "- None Type: \tNoneType"
      ],
      "metadata": {
        "id": "SyDxDjAvZzDs"
      }
    },
    {
      "cell_type": "markdown",
      "source": [
        "## Questions- handson"
      ],
      "metadata": {
        "id": "HqMYVzX9UJ1i"
      }
    },
    {
      "cell_type": "markdown",
      "source": [
        "### 1.FIndout common letters between two strings"
      ],
      "metadata": {
        "id": "WWnBzuOUrDDv"
      }
    },
    {
      "cell_type": "code",
      "source": [
        "def common_letter(str1,str2):\n",
        "  # str3=str1+\"hai\"\n",
        "  ss=set(str1)\n",
        "  sss=set(str2)\n",
        "  list1=ss & sss# Avoid duplication\n",
        "  return list1\n",
        "\n",
        "str1=input(\"First String\")\n",
        "str2=input(\"Second String\")\n",
        "\n",
        "l=common_letter(str1,str2)\n",
        "print(l)"
      ],
      "metadata": {
        "colab": {
          "base_uri": "https://localhost:8080/"
        },
        "id": "IdbvVMmHnXiq",
        "outputId": "5af44804-6771-4fe1-804c-a77ac916b70e"
      },
      "execution_count": 22,
      "outputs": [
        {
          "output_type": "stream",
          "name": "stdout",
          "text": [
            "First StringFrequency is the occurance of words or letters\n",
            "Second StringLetter or words are tokens\n",
            "{'r', 'o', 'n', 'w', 's', 'a', 'd', ' ', 't', 'e'}\n"
          ]
        }
      ]
    },
    {
      "cell_type": "markdown",
      "source": [
        "## 2.Count the frequency of words"
      ],
      "metadata": {
        "id": "qL1CL5L5wzNx"
      }
    },
    {
      "cell_type": "markdown",
      "source": [
        "Number of words in the sentence"
      ],
      "metadata": {
        "id": "dHuWRsvjxFRq"
      }
    },
    {
      "cell_type": "code",
      "source": [
        "string=\"Sheena loves eating mango and apple.But mango is good\"\n",
        "li=string.split()\n",
        "d={}  #Empty dic\n",
        "\n",
        "for i in li:\n",
        "  if i not in d.keys():\n",
        "    d[i]=0\n",
        "  d[i]=d[i]+1\n",
        "print(d)\n",
        "\n",
        "#  or\n",
        "\n",
        "# for i in li:\n",
        "#  if i not in d.keys():\n",
        "#    d[i]=d.get(i,0)+1\n",
        "# print(d)"
      ],
      "metadata": {
        "colab": {
          "base_uri": "https://localhost:8080/"
        },
        "id": "IasAfWUOnXRx",
        "outputId": "2e433a7d-35da-40a2-c318-586f74b75ffe"
      },
      "execution_count": 23,
      "outputs": [
        {
          "output_type": "stream",
          "name": "stdout",
          "text": [
            "{'Sheena': 1, 'loves': 1, 'eating': 1, 'mango': 2, 'and': 1, 'apple.But': 1, 'is': 1, 'good': 1}\n"
          ]
        }
      ]
    },
    {
      "cell_type": "markdown",
      "source": [
        "## 3.Convert two list into dictionary"
      ],
      "metadata": {
        "id": "bYxLvAJTz7dV"
      }
    },
    {
      "cell_type": "code",
      "source": [
        "li=['alaka','dsds','dsds']\n",
        "list2=[1221,3434,4343]\n",
        "\n",
        "result=dict(zip(li,list2))"
      ],
      "metadata": {
        "id": "ZnM4BdpRnXPA"
      },
      "execution_count": 24,
      "outputs": []
    },
    {
      "cell_type": "code",
      "source": [
        "print(result)"
      ],
      "metadata": {
        "colab": {
          "base_uri": "https://localhost:8080/"
        },
        "id": "Th2i2a2e3WSL",
        "outputId": "e3174e4e-80c5-4b7c-8702-48f68e70fa99"
      },
      "execution_count": 25,
      "outputs": [
        {
          "output_type": "stream",
          "name": "stdout",
          "text": [
            "{'alaka': 1221, 'dsds': 4343}\n"
          ]
        }
      ]
    },
    {
      "cell_type": "markdown",
      "source": [
        "- convert dictionary items to tuple\n"
      ],
      "metadata": {
        "id": "VStmXvjyWG51"
      }
    },
    {
      "cell_type": "code",
      "source": [
        "ss={'alaka': 1221, 'dsds': 4343}\n",
        "\n",
        "print(tuple(ss.items()))"
      ],
      "metadata": {
        "colab": {
          "base_uri": "https://localhost:8080/"
        },
        "id": "6XQOTNcKnXJi",
        "outputId": "ea9c84c1-0ef5-4e85-9a72-be60125ebfd9"
      },
      "execution_count": 26,
      "outputs": [
        {
          "output_type": "stream",
          "name": "stdout",
          "text": [
            "(('alaka', 1221), ('dsds', 4343))\n"
          ]
        }
      ]
    },
    {
      "cell_type": "code",
      "source": [
        "tuple_li=[]\n",
        "\n",
        "for i,j in ss.items():\n",
        "  tuple_li.append((i,j))\n",
        "\n",
        "tuple_li=tuple(tuple_li)"
      ],
      "metadata": {
        "id": "EOMTurQmVoju"
      },
      "execution_count": 27,
      "outputs": []
    },
    {
      "cell_type": "markdown",
      "source": [
        "### 4.Check whether the string is palindrom or not"
      ],
      "metadata": {
        "id": "uhe8PZ6NWq_b"
      }
    },
    {
      "cell_type": "code",
      "source": [
        "string_sample=\"kanakal\"\n",
        "print(string_sample)"
      ],
      "metadata": {
        "colab": {
          "base_uri": "https://localhost:8080/"
        },
        "id": "C51Il2w_Wx7o",
        "outputId": "f6fb4a5a-6ff7-4db6-f63a-b9ba1b7ccf45"
      },
      "execution_count": 28,
      "outputs": [
        {
          "output_type": "stream",
          "name": "stdout",
          "text": [
            "kanakal\n"
          ]
        }
      ]
    },
    {
      "cell_type": "code",
      "source": [
        "string_sample.split()\n",
        "\n",
        "list(string_sample)\n",
        "p_new=[]\n",
        "for i in range(len(string_sample)-1,-1,-1):\n",
        "  p_new.append(string_sample[i])\n"
      ],
      "metadata": {
        "id": "axOw4ImdZwik"
      },
      "execution_count": 29,
      "outputs": []
    },
    {
      "cell_type": "code",
      "source": [
        "str(p_new)"
      ],
      "metadata": {
        "colab": {
          "base_uri": "https://localhost:8080/",
          "height": 35
        },
        "id": "bOD8y-mke4ys",
        "outputId": "6312b815-62a7-41c0-af0f-57f7b7fc2849"
      },
      "execution_count": 30,
      "outputs": [
        {
          "output_type": "execute_result",
          "data": {
            "text/plain": [
              "\"['l', 'a', 'k', 'a', 'n', 'a', 'k']\""
            ],
            "application/vnd.google.colaboratory.intrinsic+json": {
              "type": "string"
            }
          },
          "metadata": {},
          "execution_count": 30
        }
      ]
    },
    {
      "cell_type": "code",
      "source": [
        "if list(string_sample)==p_new:\n",
        "  print(\"string is palindrome\")\n"
      ],
      "metadata": {
        "id": "QFfT1Ilgcvh4"
      },
      "execution_count": 31,
      "outputs": []
    },
    {
      "cell_type": "markdown",
      "source": [
        "\n",
        "\n",
        "### 5.Write a Python program to find the factorial of a number.\n",
        "\n",
        "\n"
      ],
      "metadata": {
        "id": "EhZ3A-6ohAxF"
      }
    },
    {
      "cell_type": "code",
      "source": [
        "num=input(\"Enter the number\")\n",
        "num=int(num)\n",
        "i=num\n",
        "while(i>0):\n",
        "  num=num*i\n",
        "  i=i-1\n",
        "print(num)\n"
      ],
      "metadata": {
        "colab": {
          "base_uri": "https://localhost:8080/"
        },
        "id": "QwFGJ4Ayhj1m",
        "outputId": "05a09799-ed67-4abb-d95f-635eb559d67d"
      },
      "execution_count": 32,
      "outputs": [
        {
          "output_type": "stream",
          "name": "stdout",
          "text": [
            "Enter the number4\n",
            "96\n"
          ]
        }
      ]
    },
    {
      "cell_type": "markdown",
      "source": [
        "### 6.Write a Python program to find the largest element in a list.\n"
      ],
      "metadata": {
        "id": "TElm-lkco-Tr"
      }
    },
    {
      "cell_type": "code",
      "source": [
        "list_num=[32,54,66,22,65,89,89]\n",
        "# print(max(list_num))\n",
        "\n",
        "#     # or\n",
        "larg_num=list_num[0]\n",
        "\n",
        "for i in list_num:\n",
        "  if (i>=larg_num):\n",
        "    larg_num=i"
      ],
      "metadata": {
        "id": "RPSz6huVid-O"
      },
      "execution_count": 33,
      "outputs": []
    },
    {
      "cell_type": "markdown",
      "source": [
        "### 7.Reverse a string"
      ],
      "metadata": {
        "id": "JIFcGN9Dr1S_"
      }
    },
    {
      "cell_type": "code",
      "source": [
        "string_one=\"Helenkeller\"\n",
        "\n",
        "for i in range(len(string_one)-1,-1,-1):\n",
        "   print(string_one[i])"
      ],
      "metadata": {
        "id": "tD2L3NB0rVZC",
        "colab": {
          "base_uri": "https://localhost:8080/"
        },
        "outputId": "8e50f9bb-4c0a-4c2c-a346-981a8c181721"
      },
      "execution_count": 34,
      "outputs": [
        {
          "output_type": "stream",
          "name": "stdout",
          "text": [
            "r\n",
            "e\n",
            "l\n",
            "l\n",
            "e\n",
            "k\n",
            "n\n",
            "e\n",
            "l\n",
            "e\n",
            "H\n"
          ]
        }
      ]
    },
    {
      "cell_type": "code",
      "source": [
        "num=len(string_one)\n",
        "num"
      ],
      "metadata": {
        "colab": {
          "base_uri": "https://localhost:8080/"
        },
        "id": "3FvVZh8BugOb",
        "outputId": "d3442546-5f2c-46dd-828c-e7d9ed7931c4"
      },
      "execution_count": 35,
      "outputs": [
        {
          "output_type": "execute_result",
          "data": {
            "text/plain": [
              "11"
            ]
          },
          "metadata": {},
          "execution_count": 35
        }
      ]
    },
    {
      "cell_type": "code",
      "source": [
        "num_list=list(string_one)\n",
        "num_list"
      ],
      "metadata": {
        "colab": {
          "base_uri": "https://localhost:8080/"
        },
        "id": "z1F8D12RwVdT",
        "outputId": "6bf1a08f-adf0-4256-9820-f550b0c28fc3"
      },
      "execution_count": 36,
      "outputs": [
        {
          "output_type": "execute_result",
          "data": {
            "text/plain": [
              "['H', 'e', 'l', 'e', 'n', 'k', 'e', 'l', 'l', 'e', 'r']"
            ]
          },
          "metadata": {},
          "execution_count": 36
        }
      ]
    },
    {
      "cell_type": "code",
      "source": [
        "sstr=[]\n",
        "for i in range(len(num_list)):\n",
        "  sstr.append(num_list[num-i-1])\n"
      ],
      "metadata": {
        "id": "oKAvGjojs-1a"
      },
      "execution_count": 37,
      "outputs": []
    },
    {
      "cell_type": "markdown",
      "source": [
        "### 8. Write a Python program to count the frequency of each element in a list.\n"
      ],
      "metadata": {
        "id": "NtdbPBT3xrWV"
      }
    },
    {
      "cell_type": "code",
      "source": [
        "list_num=[32,55,33,88,66,55,88,66,55,44,44,90]"
      ],
      "metadata": {
        "id": "T06UbPglwQkm"
      },
      "execution_count": 38,
      "outputs": []
    },
    {
      "cell_type": "code",
      "source": [
        "set(list_num)"
      ],
      "metadata": {
        "colab": {
          "base_uri": "https://localhost:8080/"
        },
        "id": "r96q1sSHyCV-",
        "outputId": "d321429c-d0bf-4656-fd4b-8c72356231b7"
      },
      "execution_count": 39,
      "outputs": [
        {
          "output_type": "execute_result",
          "data": {
            "text/plain": [
              "{32, 33, 44, 55, 66, 88, 90}"
            ]
          },
          "metadata": {},
          "execution_count": 39
        }
      ]
    },
    {
      "cell_type": "code",
      "source": [
        "count={}  # Dictionary initializing\n",
        "for i in list_num:\n",
        "  if i in count:\n",
        "    count[i]=count[i]+1  # ADD each count fre to each key\n",
        "  else:\n",
        "    count[i]=1\n",
        "\n",
        "print(count)\n",
        "\n",
        "print(sorted(count.items(),key=lambda x: x[1], reverse=True))\n",
        "# print(count.items,key=lambda x:x[1],reverse=True)"
      ],
      "metadata": {
        "colab": {
          "base_uri": "https://localhost:8080/"
        },
        "id": "9gBV_6lqyUt5",
        "outputId": "5e0e0429-81b2-4b86-91a5-6f7ee6f1e162"
      },
      "execution_count": 40,
      "outputs": [
        {
          "output_type": "stream",
          "name": "stdout",
          "text": [
            "{32: 1, 55: 3, 33: 1, 88: 2, 66: 2, 44: 2, 90: 1}\n",
            "[(55, 3), (88, 2), (66, 2), (44, 2), (32, 1), (33, 1), (90, 1)]\n"
          ]
        }
      ]
    },
    {
      "cell_type": "markdown",
      "source": [
        "### 9.Write a Python program to find the common elements between two lists.\n"
      ],
      "metadata": {
        "id": "jGXTIKDnaTKE"
      }
    },
    {
      "cell_type": "code",
      "source": [
        "# Test the function\n",
        "list1 = [1, 2, 3, 4, 5]\n",
        "list2 = [3, 4, 5, 6, 7]\n",
        "common_elemt=set(list1) & set(list2)\n",
        "sorted(common_elemt,reverse=True)"
      ],
      "metadata": {
        "colab": {
          "base_uri": "https://localhost:8080/"
        },
        "id": "EFU1gIOHaU4a",
        "outputId": "63b61659-ff4b-463a-cbd7-2b755e9529c6"
      },
      "execution_count": 41,
      "outputs": [
        {
          "output_type": "execute_result",
          "data": {
            "text/plain": [
              "[5, 4, 3]"
            ]
          },
          "metadata": {},
          "execution_count": 41
        }
      ]
    },
    {
      "cell_type": "code",
      "source": [
        "list1 = [1, 2, 3,6,8,99, 4, 5]\n",
        "list2 = [3, 4,90,78,55,99, 5, 6, 7]\n",
        "list3=[]\n",
        "for i in range(len(list1)):\n",
        "  for j in range(len(list2)):\n",
        "    if list1[i]==list2[j]:\n",
        "        list3.append(list1[i])"
      ],
      "metadata": {
        "id": "CY5AR9sNbS9P"
      },
      "execution_count": 42,
      "outputs": []
    },
    {
      "cell_type": "markdown",
      "source": [
        "### 10.Find most occured letter in a list and sort it according to the alphabet"
      ],
      "metadata": {
        "id": "FYZEhHRTjiAc"
      }
    },
    {
      "cell_type": "code",
      "source": [
        "stri=\"KrishnaBalaram\"\n",
        "string_sort=stri.lower()\n",
        "string_sort=list(string_sort)"
      ],
      "metadata": {
        "id": "kGADCrLmj0Q6"
      },
      "execution_count": 43,
      "outputs": []
    },
    {
      "cell_type": "code",
      "source": [
        "string_sort=set(string_sort)"
      ],
      "metadata": {
        "id": "Hlhxig__kDed"
      },
      "execution_count": 44,
      "outputs": []
    },
    {
      "cell_type": "code",
      "source": [
        "print(string_sort)\n",
        "print(sorted(string_sort))"
      ],
      "metadata": {
        "colab": {
          "base_uri": "https://localhost:8080/"
        },
        "id": "MXznNe2tkT1P",
        "outputId": "26eebe45-573a-447a-c88c-d7691063d65b"
      },
      "execution_count": 45,
      "outputs": [
        {
          "output_type": "stream",
          "name": "stdout",
          "text": [
            "{'r', 'i', 'm', 'n', 'a', 'b', 's', 'k', 'h', 'l'}\n",
            "['a', 'b', 'h', 'i', 'k', 'l', 'm', 'n', 'r', 's']\n"
          ]
        }
      ]
    },
    {
      "cell_type": "code",
      "source": [
        "# or- do in loop- Method 2\n",
        "str_list=[]\n",
        "str_list=list(stri)\n",
        "\n",
        "frequen={}\n",
        "\n",
        "for i in str_list:\n",
        "  if i in frequen:\n",
        "    frequen[i]+=1\n",
        "  else:\n",
        "    frequen[i]=1\n",
        "\n",
        "\n",
        "# count={}  # Dictionary initializing\n",
        "# for i in list_num:\n",
        "#   if i in count:\n",
        "#     count[i]=count[i]+1  # ADD each count fre to each key\n",
        "#   else:\n",
        "#     count[i]=1\n",
        "\n",
        "# print(list_num,count)"
      ],
      "metadata": {
        "id": "sHtG58P4kvJM"
      },
      "execution_count": 46,
      "outputs": []
    },
    {
      "cell_type": "code",
      "source": [
        "print(sorted(frequen.items(),key=lambda x: x[1]))"
      ],
      "metadata": {
        "id": "v-xgXX9qoJDo",
        "colab": {
          "base_uri": "https://localhost:8080/"
        },
        "outputId": "06a1c715-df89-403e-82a2-4ff78ae0a1be"
      },
      "execution_count": 47,
      "outputs": [
        {
          "output_type": "stream",
          "name": "stdout",
          "text": [
            "[('K', 1), ('i', 1), ('s', 1), ('h', 1), ('n', 1), ('B', 1), ('l', 1), ('m', 1), ('r', 2), ('a', 4)]\n"
          ]
        }
      ]
    },
    {
      "cell_type": "markdown",
      "source": [
        "### 11.Write a Python program to check if a number is prime.\n"
      ],
      "metadata": {
        "id": "ROELj6M2rOP_"
      }
    },
    {
      "cell_type": "code",
      "source": [
        "num=37\n",
        "def primeornot(num):\n",
        "  for i in num:\n",
        "    if(num%i==0):\n",
        "      return 0\n",
        "  return 1"
      ],
      "metadata": {
        "id": "wJMbsNcmrIOL"
      },
      "execution_count": 48,
      "outputs": []
    },
    {
      "cell_type": "markdown",
      "source": [
        "### 12.Write a program Counting the Number of Occurrences of a Character in a String\n"
      ],
      "metadata": {
        "id": "_EUU9pRGtSU6"
      }
    },
    {
      "cell_type": "code",
      "source": [
        "stri=\"KrishnaBalaram\"\n",
        "\n",
        "setkey={}\n",
        "\n",
        "for i in stri:\n",
        "    if i in setkey:\n",
        "        setkey[i]+=1\n",
        "    else:\n",
        "        setkey[i]=1"
      ],
      "metadata": {
        "id": "P1_gRhFWs8n2"
      },
      "execution_count": 49,
      "outputs": []
    },
    {
      "cell_type": "code",
      "source": [
        "sorted(setkey.items(),key=lambda x:x[1],reverse=True)"
      ],
      "metadata": {
        "id": "tJOXJjN_tuzF",
        "colab": {
          "base_uri": "https://localhost:8080/"
        },
        "outputId": "60356829-45ab-4131-91ec-cdd28d481fe9"
      },
      "execution_count": 50,
      "outputs": [
        {
          "output_type": "execute_result",
          "data": {
            "text/plain": [
              "[('a', 4),\n",
              " ('r', 2),\n",
              " ('K', 1),\n",
              " ('i', 1),\n",
              " ('s', 1),\n",
              " ('h', 1),\n",
              " ('n', 1),\n",
              " ('B', 1),\n",
              " ('l', 1),\n",
              " ('m', 1)]"
            ]
          },
          "metadata": {},
          "execution_count": 50
        }
      ]
    },
    {
      "cell_type": "markdown",
      "source": [
        "### 13.Write a program for counting consonants in a given string.\n"
      ],
      "metadata": {
        "id": "e1xriTMeuUam"
      }
    },
    {
      "cell_type": "code",
      "source": [
        "vowel = ['a', 'e', 'i', 'o', 'u']\n",
        "string = \"helloalakaka\"\n",
        "counter = {}\n",
        "for i in list(string):\n",
        "  if i not in vowel and i.isalpha():  # Check if it's a consonant and a letter\n",
        "    counter[i] = counter.get(i, 0) +1\n",
        "\n",
        "print(counter)\n"
      ],
      "metadata": {
        "colab": {
          "base_uri": "https://localhost:8080/"
        },
        "id": "xhOahwTCdwCL",
        "outputId": "93e4aff2-7f97-4780-aeac-95761b4d3fbd"
      },
      "execution_count": 51,
      "outputs": [
        {
          "output_type": "stream",
          "name": "stdout",
          "text": [
            "{'h': 1, 'l': 3, 'k': 2}\n"
          ]
        }
      ]
    },
    {
      "cell_type": "code",
      "source": [
        "sorted(counter.items(),key=lambda x:x[1],reverse=False)"
      ],
      "metadata": {
        "colab": {
          "base_uri": "https://localhost:8080/"
        },
        "id": "rPpOwz8TYLNr",
        "outputId": "615e1205-6841-4a30-8d93-148fb115402e"
      },
      "execution_count": 52,
      "outputs": [
        {
          "output_type": "execute_result",
          "data": {
            "text/plain": [
              "[('h', 1), ('k', 2), ('l', 3)]"
            ]
          },
          "metadata": {},
          "execution_count": 52
        }
      ]
    },
    {
      "cell_type": "code",
      "source": [],
      "metadata": {
        "id": "GrlsREMFcnRU"
      },
      "execution_count": 52,
      "outputs": []
    }
  ]
}